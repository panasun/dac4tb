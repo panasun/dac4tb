{
 "cells": [
  {
   "cell_type": "code",
   "execution_count": 215,
   "metadata": {},
   "outputs": [],
   "source": [
    "from __future__ import absolute_import, division, print_function, unicode_literals"
   ]
  },
  {
   "cell_type": "code",
   "execution_count": 216,
   "metadata": {
    "scrolled": true
   },
   "outputs": [],
   "source": [
    "# try:\n",
    "#   !pip install tensorflow\n",
    "# except Exception:\n",
    "#   pass"
   ]
  },
  {
   "cell_type": "code",
   "execution_count": 217,
   "metadata": {},
   "outputs": [],
   "source": [
    "import tensorflow as tf\n",
    "AUTOTUNE = tf.data.experimental.AUTOTUNE\n",
    "# import IPython.display as display\n",
    "from PIL import Image\n",
    "import numpy as np\n",
    "import matplotlib.pyplot as plt\n",
    "import os\n",
    "import zipfile\n",
    "import pathlib\n",
    "import datetime\n",
    "import warnings"
   ]
  },
  {
   "cell_type": "code",
   "execution_count": 218,
   "metadata": {},
   "outputs": [
    {
     "data": {
      "text/plain": [
       "'2.1.0'"
      ]
     },
     "execution_count": 218,
     "metadata": {},
     "output_type": "execute_result"
    }
   ],
   "source": [
    "tf.__version__"
   ]
  },
  {
   "cell_type": "code",
   "execution_count": 219,
   "metadata": {},
   "outputs": [],
   "source": [
    "def fxn():\n",
    "    warnings.warn(\"deprecated\", DeprecationWarning)\n",
    "\n",
    "with warnings.catch_warnings():\n",
    "    warnings.simplefilter(\"ignore\")\n",
    "    fxn()"
   ]
  },
  {
   "cell_type": "code",
   "execution_count": 220,
   "metadata": {},
   "outputs": [],
   "source": [
    "np.random.seed(1337) \n",
    "tf.random.set_seed(1337)"
   ]
  },
  {
   "cell_type": "code",
   "execution_count": 221,
   "metadata": {},
   "outputs": [
    {
     "data": {
      "text/plain": [
       "WindowsPath('input')"
      ]
     },
     "execution_count": 221,
     "metadata": {},
     "output_type": "execute_result"
    }
   ],
   "source": [
    "data_dir = pathlib.Path(\"input\")\n",
    "data_dir"
   ]
  },
  {
   "cell_type": "code",
   "execution_count": 222,
   "metadata": {},
   "outputs": [
    {
     "data": {
      "text/plain": [
       "291"
      ]
     },
     "execution_count": 222,
     "metadata": {},
     "output_type": "execute_result"
    }
   ],
   "source": [
    "image_count = len(list(data_dir.glob('*.jpg')))\n",
    "image_count"
   ]
  },
  {
   "cell_type": "code",
   "execution_count": 223,
   "metadata": {},
   "outputs": [
    {
     "name": "stdout",
     "output_type": "stream",
     "text": [
      "START PREDICTION: input\n",
      "TOTAL IMAGES: 291\n"
     ]
    }
   ],
   "source": [
    "print(\"START PREDICTION: \" + str(data_dir))\n",
    "print(\"TOTAL IMAGES: \" + str(image_count))"
   ]
  },
  {
   "cell_type": "code",
   "execution_count": 224,
   "metadata": {},
   "outputs": [],
   "source": [
    "images = list(data_dir.glob('*'))"
   ]
  },
  {
   "cell_type": "code",
   "execution_count": 225,
   "metadata": {},
   "outputs": [],
   "source": [
    "# for image_path in images[:3]:\n",
    "#     display.display(Image.open(str(image_path)))"
   ]
  },
  {
   "cell_type": "code",
   "execution_count": 226,
   "metadata": {},
   "outputs": [],
   "source": [
    "image_generator = tf.keras.preprocessing.image.ImageDataGenerator(rescale=1./255)"
   ]
  },
  {
   "cell_type": "code",
   "execution_count": 227,
   "metadata": {},
   "outputs": [],
   "source": [
    "SHUFFLE_BUFFER_SIZE = 1000\n",
    "IMG_HEIGHT = 224\n",
    "IMG_WIDTH = 224"
   ]
  },
  {
   "cell_type": "code",
   "execution_count": 228,
   "metadata": {},
   "outputs": [],
   "source": [
    "list_ds = tf.data.Dataset.list_files(str(data_dir/'*.jpg'))"
   ]
  },
  {
   "cell_type": "code",
   "execution_count": 229,
   "metadata": {},
   "outputs": [],
   "source": [
    "# for f in list_ds.take(5):\n",
    "#     print(f.numpy())"
   ]
  },
  {
   "cell_type": "code",
   "execution_count": 230,
   "metadata": {},
   "outputs": [],
   "source": [
    "def decode_img(img):\n",
    "  # convert the compressed string to a 3D uint8 tensor\n",
    "  img = tf.image.decode_jpeg(img, channels=3)\n",
    "  # Use `convert_image_dtype` to convert to floats in the [0,1] range.\n",
    "  img = tf.image.convert_image_dtype(img, tf.float32)\n",
    "  # img = tf.cast(img, tf.float32)\n",
    "  # resize the image to the desired size.\n",
    "  return [tf.image.resize(img, [IMG_WIDTH, IMG_HEIGHT])]"
   ]
  },
  {
   "cell_type": "code",
   "execution_count": 231,
   "metadata": {},
   "outputs": [],
   "source": [
    "def process_path(file_path):\n",
    "    img = tf.io.read_file(file_path)\n",
    "    img = decode_img(img)\n",
    "    return img , file_path"
   ]
  },
  {
   "cell_type": "code",
   "execution_count": 232,
   "metadata": {},
   "outputs": [],
   "source": [
    "prep_ds = list_ds.map(process_path)\n",
    "prep_ds = prep_ds.take(image_count)\n",
    "# print((prep_ds))"
   ]
  },
  {
   "cell_type": "code",
   "execution_count": 233,
   "metadata": {},
   "outputs": [
    {
     "name": "stdout",
     "output_type": "stream",
     "text": [
      "MODEL NAME: blm_2_t_mn\n",
      "Model: \"sequential_3\"\n",
      "_________________________________________________________________\n",
      "Layer (type)                 Output Shape              Param #   \n",
      "=================================================================\n",
      "mobilenetv2_1.00_224 (Model) (None, 7, 7, 1280)        2257984   \n",
      "_________________________________________________________________\n",
      "global_average_pooling2d_3 ( (None, 1280)              0         \n",
      "_________________________________________________________________\n",
      "dense_3 (Dense)              (None, 2)                 2562      \n",
      "=================================================================\n",
      "Total params: 2,260,546\n",
      "Trainable params: 1,865,154\n",
      "Non-trainable params: 395,392\n",
      "_________________________________________________________________\n"
     ]
    }
   ],
   "source": [
    "CLASS_NAMES = ['ABNORMAL', 'NORMAL']\n",
    "MODEL_NAME = 'blm_2_t_mn'\n",
    "print(\"MODEL NAME: \" + MODEL_NAME)\n",
    "predict_model = tf.keras.models.load_model('saved_model/' + MODEL_NAME + '.h5')\n",
    "predict_model.summary()"
   ]
  },
  {
   "cell_type": "code",
   "execution_count": 234,
   "metadata": {},
   "outputs": [],
   "source": [
    "with tf.device('/cpu:0'):\n",
    "    predictions = predict_model.predict(prep_ds)"
   ]
  },
  {
   "cell_type": "code",
   "execution_count": 235,
   "metadata": {},
   "outputs": [],
   "source": [
    "currentDT = datetime.datetime.now()\n",
    "currentDT = currentDT.strftime(\"%Y%m%d%H%M%S\")\n",
    "f = open(\"output/output_\" + currentDT + \".csv\", \"w\")"
   ]
  },
  {
   "cell_type": "code",
   "execution_count": 236,
   "metadata": {},
   "outputs": [
    {
     "data": {
      "text/plain": [
       "8"
      ]
     },
     "execution_count": 236,
     "metadata": {},
     "output_type": "execute_result"
    }
   ],
   "source": [
    "f.write('IMAGE' + ',' + 'MODEL_NAME' + ',')\n",
    "for r in CLASS_NAMES:\n",
    "    f.write(r + ',')\n",
    "f.write('PREDICT' + '\\n')"
   ]
  },
  {
   "cell_type": "code",
   "execution_count": 237,
   "metadata": {},
   "outputs": [
    {
     "name": "stdout",
     "output_type": "stream",
     "text": [
      "0\t000328149\tblm_2_t_mn\t0.0\t1.0\tNORMAL\n",
      "1\t000237543\tblm_2_t_mn\t0.0\t1.0\tNORMAL\n",
      "2\t000064731\tblm_2_t_mn\t0.0\t1.0\tNORMAL\n",
      "3\t000240767\tblm_2_t_mn\t0.0\t1.0\tNORMAL\n",
      "4\t000291684\tblm_2_t_mn\t0.0\t1.0\tNORMAL\n",
      "5\t000184791\tblm_2_t_mn\t0.0\t1.0\tNORMAL\n",
      "6\t000110198\tblm_2_t_mn\t0.0\t1.0\tNORMAL\n",
      "7\t000158509\tblm_2_t_mn\t0.0\t1.0\tNORMAL\n",
      "8\t000286090\tblm_2_t_mn\t0.0\t1.0\tNORMAL\n",
      "9\t000187824\tblm_2_t_mn\t0.0\t1.0\tNORMAL\n",
      "10\t000040421\tblm_2_t_mn\t0.0\t1.0\tNORMAL\n",
      "11\t000123477\tblm_2_t_mn\t0.0\t1.0\tNORMAL\n",
      "12\t000235802\tblm_2_t_mn\t0.0\t1.0\tNORMAL\n",
      "13\t000137252\tblm_2_t_mn\t0.0\t1.0\tNORMAL\n",
      "14\t000067466\tblm_2_t_mn\t0.0\t1.0\tNORMAL\n",
      "15\t000394829\tblm_2_t_mn\t0.0\t1.0\tNORMAL\n",
      "16\t001252228\tblm_2_t_mn\t0.0\t1.0\tNORMAL\n",
      "17\t000204994\tblm_2_t_mn\t0.0\t1.0\tNORMAL\n",
      "18\t000186411\tblm_2_t_mn\t0.0\t1.0\tNORMAL\n",
      "19\t000340599\tblm_2_t_mn\t0.0\t1.0\tNORMAL\n",
      "20\t000232400\tblm_2_t_mn\t0.0\t1.0\tNORMAL\n",
      "21\t000141125\tblm_2_t_mn\t0.0\t1.0\tNORMAL\n",
      "22\t000147172\tblm_2_t_mn\t0.0\t1.0\tNORMAL\n",
      "23\t000203596\tblm_2_t_mn\t0.0\t1.0\tNORMAL\n",
      "24\t000057327\tblm_2_t_mn\t0.0\t1.0\tNORMAL\n",
      "25\t000155564\tblm_2_t_mn\t0.0\t1.0\tNORMAL\n",
      "26\t000243649\tblm_2_t_mn\t0.0\t1.0\tNORMAL\n",
      "27\t000124024\tblm_2_t_mn\t0.0\t1.0\tNORMAL\n",
      "28\t000173357\tblm_2_t_mn\t0.0\t1.0\tNORMAL\n",
      "29\t000225887\tblm_2_t_mn\t0.0\t1.0\tNORMAL\n",
      "30\t000115423\tblm_2_t_mn\t0.0\t1.0\tNORMAL\n",
      "31\t000251942\tblm_2_t_mn\t0.0\t1.0\tNORMAL\n",
      "32\t001663949\tblm_2_t_mn\t0.0\t1.0\tNORMAL\n",
      "33\t000276542\tblm_2_t_mn\t0.0\t1.0\tNORMAL\n",
      "34\t000135993\tblm_2_t_mn\t0.0\t1.0\tNORMAL\n",
      "35\t000056920\tblm_2_t_mn\t0.0\t1.0\tNORMAL\n",
      "36\t000344653\tblm_2_t_mn\t0.0\t1.0\tNORMAL\n",
      "37\t000212006\tblm_2_t_mn\t0.0\t1.0\tNORMAL\n",
      "38\t000059506\tblm_2_t_mn\t0.0\t1.0\tNORMAL\n",
      "39\t000062241\tblm_2_t_mn\t0.0\t1.0\tNORMAL\n",
      "40\t000248606\tblm_2_t_mn\t0.0\t1.0\tNORMAL\n",
      "41\t000153520\tblm_2_t_mn\t0.0\t1.0\tNORMAL\n",
      "42\t000301392\tblm_2_t_mn\t0.0\t1.0\tNORMAL\n",
      "43\t000091320\tblm_2_t_mn\t0.0\t1.0\tNORMAL\n",
      "44\t000122877\tblm_2_t_mn\t0.0\t1.0\tNORMAL\n",
      "45\t000153056\tblm_2_t_mn\t0.0\t1.0\tNORMAL\n",
      "46\t000329167\tblm_2_t_mn\t0.0\t1.0\tNORMAL\n",
      "47\t000142141\tblm_2_t_mn\t0.0\t1.0\tNORMAL\n",
      "48\t000198425\tblm_2_t_mn\t0.0\t1.0\tNORMAL\n",
      "49\t000278445\tblm_2_t_mn\t0.0\t1.0\tNORMAL\n",
      "50\t000035263\tblm_2_t_mn\t0.0\t1.0\tNORMAL\n",
      "51\t000264437\tblm_2_t_mn\t0.0\t1.0\tNORMAL\n",
      "52\t000211887\tblm_2_t_mn\t0.0\t1.0\tNORMAL\n",
      "53\t001214704\tblm_2_t_mn\t0.0\t1.0\tNORMAL\n",
      "54\t000332159\tblm_2_t_mn\t0.0\t1.0\tNORMAL\n",
      "55\t000284470\tblm_2_t_mn\t0.0\t1.0\tNORMAL\n",
      "56\t001691720\tblm_2_t_mn\t0.0\t1.0\tNORMAL\n",
      "57\t000253526\tblm_2_t_mn\t0.0\t1.0\tNORMAL\n",
      "58\t000043331\tblm_2_t_mn\t0.0\t1.0\tNORMAL\n",
      "59\t000246450\tblm_2_t_mn\t0.0\t1.0\tNORMAL\n",
      "60\t000313736\tblm_2_t_mn\t0.0\t1.0\tNORMAL\n",
      "61\t000089561\tblm_2_t_mn\t0.0\t1.0\tNORMAL\n",
      "62\t000253316\tblm_2_t_mn\t0.0\t1.0\tNORMAL\n",
      "63\t000257046\tblm_2_t_mn\t0.0\t1.0\tNORMAL\n",
      "64\t001612416\tblm_2_t_mn\t0.0\t1.0\tNORMAL\n",
      "65\t000139668\tblm_2_t_mn\t0.0\t1.0\tNORMAL\n",
      "66\t000073835\tblm_2_t_mn\t0.0\t1.0\tNORMAL\n",
      "67\t000067629\tblm_2_t_mn\t0.0\t1.0\tNORMAL\n",
      "68\t000161243\tblm_2_t_mn\t0.0\t1.0\tNORMAL\n",
      "69\t001127811\tblm_2_t_mn\t0.0\t1.0\tNORMAL\n",
      "70\t000047131\tblm_2_t_mn\t0.0\t1.0\tNORMAL\n",
      "71\t000311847\tblm_2_t_mn\t0.0\t1.0\tNORMAL\n",
      "72\t000236747\tblm_2_t_mn\t0.0\t1.0\tNORMAL\n",
      "73\t000245582\tblm_2_t_mn\t0.0\t1.0\tNORMAL\n",
      "74\t000045549\tblm_2_t_mn\t0.0\t1.0\tNORMAL\n",
      "75\t000202666\tblm_2_t_mn\t0.0\t1.0\tNORMAL\n",
      "76\t000309630\tblm_2_t_mn\t0.0\t1.0\tNORMAL\n",
      "77\t000244784\tblm_2_t_mn\t0.0\t1.0\tNORMAL\n",
      "78\t000227161\tblm_2_t_mn\t0.0\t1.0\tNORMAL\n",
      "79\t001615365\tblm_2_t_mn\t0.0\t1.0\tNORMAL\n",
      "80\t000184885\tblm_2_t_mn\t0.0\t1.0\tNORMAL\n",
      "81\t000149464\tblm_2_t_mn\t0.0\t1.0\tNORMAL\n",
      "82\t000227439\tblm_2_t_mn\t0.0\t1.0\tNORMAL\n",
      "83\t001484214\tblm_2_t_mn\t0.0\t1.0\tNORMAL\n",
      "84\t000267726\tblm_2_t_mn\t0.0\t1.0\tNORMAL\n",
      "85\t000071755\tblm_2_t_mn\t0.0\t1.0\tNORMAL\n",
      "86\t000210063\tblm_2_t_mn\t0.0\t1.0\tNORMAL\n",
      "87\t000108919\tblm_2_t_mn\t0.0\t1.0\tNORMAL\n",
      "88\t000257542\tblm_2_t_mn\t0.0\t1.0\tNORMAL\n",
      "89\t000183291\tblm_2_t_mn\t0.0\t1.0\tNORMAL\n",
      "90\t000242309\tblm_2_t_mn\t0.0\t1.0\tNORMAL\n",
      "91\t000272165\tblm_2_t_mn\t0.0\t1.0\tNORMAL\n",
      "92\t000339485\tblm_2_t_mn\t0.0\t1.0\tNORMAL\n",
      "93\t000311916\tblm_2_t_mn\t0.0\t1.0\tNORMAL\n",
      "94\t000151161\tblm_2_t_mn\t0.0\t1.0\tNORMAL\n",
      "95\t000295506\tblm_2_t_mn\t0.0\t1.0\tNORMAL\n",
      "96\t000202348\tblm_2_t_mn\t0.0\t1.0\tNORMAL\n",
      "97\t000041900\tblm_2_t_mn\t0.0\t1.0\tNORMAL\n",
      "98\t000273918\tblm_2_t_mn\t0.0\t1.0\tNORMAL\n",
      "99\t000142983\tblm_2_t_mn\t0.0\t1.0\tNORMAL\n",
      "100\t000065575\tblm_2_t_mn\t0.0\t1.0\tNORMAL\n",
      "101\t000302494\tblm_2_t_mn\t0.0\t1.0\tNORMAL\n",
      "102\t000097208\tblm_2_t_mn\t0.0\t1.0\tNORMAL\n",
      "103\t000344715\tblm_2_t_mn\t0.0\t1.0\tNORMAL\n",
      "104\t000264320\tblm_2_t_mn\t0.0\t1.0\tNORMAL\n",
      "105\t000255581\tblm_2_t_mn\t0.0\t1.0\tNORMAL\n",
      "106\t000188606\tblm_2_t_mn\t0.0\t1.0\tNORMAL\n",
      "107\t000206637\tblm_2_t_mn\t0.0\t1.0\tNORMAL\n",
      "108\t000113226\tblm_2_t_mn\t0.0\t1.0\tNORMAL\n",
      "109\t000202480\tblm_2_t_mn\t0.0\t1.0\tNORMAL\n",
      "110\t000294243\tblm_2_t_mn\t0.0\t1.0\tNORMAL\n",
      "111\t000116372\tblm_2_t_mn\t0.0\t1.0\tNORMAL\n",
      "112\t001576782\tblm_2_t_mn\t0.0\t1.0\tNORMAL\n",
      "113\t000226079\tblm_2_t_mn\t0.0\t1.0\tNORMAL\n",
      "114\t000329354\tblm_2_t_mn\t0.0\t1.0\tNORMAL\n",
      "115\t000192050\tblm_2_t_mn\t0.0\t1.0\tNORMAL\n",
      "116\t000329428\tblm_2_t_mn\t0.0\t1.0\tNORMAL\n",
      "117\t000139148\tblm_2_t_mn\t0.0\t1.0\tNORMAL\n",
      "118\t000463317\tblm_2_t_mn\t0.0\t1.0\tNORMAL\n",
      "119\t000066956\tblm_2_t_mn\t0.0\t1.0\tNORMAL\n",
      "120\t000329580\tblm_2_t_mn\t0.0\t1.0\tNORMAL\n",
      "121\t000108679\tblm_2_t_mn\t0.0\t1.0\tNORMAL\n",
      "122\t000201368\tblm_2_t_mn\t0.0\t1.0\tNORMAL\n",
      "123\t000082219\tblm_2_t_mn\t0.0\t1.0\tNORMAL\n",
      "124\t000026588\tblm_2_t_mn\t0.0\t1.0\tNORMAL\n",
      "125\t000226702\tblm_2_t_mn\t0.0\t1.0\tNORMAL\n",
      "126\t000237073\tblm_2_t_mn\t0.0\t1.0\tNORMAL\n",
      "127\t000214590\tblm_2_t_mn\t0.0\t1.0\tNORMAL\n",
      "128\t000239444\tblm_2_t_mn\t0.0\t1.0\tNORMAL\n",
      "129\t000263348\tblm_2_t_mn\t0.0\t1.0\tNORMAL\n",
      "130\t000197688\tblm_2_t_mn\t0.0\t1.0\tNORMAL\n",
      "131\t001491310\tblm_2_t_mn\t0.0\t1.0\tNORMAL\n",
      "132\t000091499\tblm_2_t_mn\t0.0\t1.0\tNORMAL\n",
      "133\t000124829\tblm_2_t_mn\t0.0\t1.0\tNORMAL\n",
      "134\t000015542\tblm_2_t_mn\t0.0\t1.0\tNORMAL\n",
      "135\t000257667\tblm_2_t_mn\t0.0\t1.0\tNORMAL\n",
      "136\t000265336\tblm_2_t_mn\t0.0\t1.0\tNORMAL\n",
      "137\t000336066\tblm_2_t_mn\t0.0\t1.0\tNORMAL\n",
      "138\t001664814\tblm_2_t_mn\t0.0\t1.0\tNORMAL\n",
      "139\t000222530\tblm_2_t_mn\t0.0\t1.0\tNORMAL\n",
      "140\t000034741\tblm_2_t_mn\t0.0\t1.0\tNORMAL\n",
      "141\t000307146\tblm_2_t_mn\t0.0\t1.0\tNORMAL\n",
      "142\t000266038\tblm_2_t_mn\t0.0\t1.0\tNORMAL\n",
      "143\t001692091\tblm_2_t_mn\t0.0\t1.0\tNORMAL\n",
      "144\t000282219\tblm_2_t_mn\t0.0\t1.0\tNORMAL\n",
      "145\t000090720\tblm_2_t_mn\t0.0\t1.0\tNORMAL\n",
      "146\t000036533\tblm_2_t_mn\t0.0\t1.0\tNORMAL\n",
      "147\t000112115\tblm_2_t_mn\t0.0\t1.0\tNORMAL\n",
      "148\t000188663\tblm_2_t_mn\t0.0\t1.0\tNORMAL\n",
      "149\t000227200\tblm_2_t_mn\t0.0\t1.0\tNORMAL\n",
      "150\t000281595\tblm_2_t_mn\t0.0\t1.0\tNORMAL\n",
      "151\t001612642\tblm_2_t_mn\t0.0\t1.0\tNORMAL\n",
      "152\t000291797\tblm_2_t_mn\t0.0\t1.0\tNORMAL\n",
      "153\t000235844\tblm_2_t_mn\t0.0\t1.0\tNORMAL\n",
      "154\t000282552\tblm_2_t_mn\t0.0\t1.0\tNORMAL\n",
      "155\t000203893\tblm_2_t_mn\t0.0\t1.0\tNORMAL\n",
      "156\t000264371\tblm_2_t_mn\t0.0\t1.0\tNORMAL\n",
      "157\t000332638\tblm_2_t_mn\t0.0\t1.0\tNORMAL\n",
      "158\t000147712\tblm_2_t_mn\t0.0\t1.0\tNORMAL\n",
      "159\t000343279\tblm_2_t_mn\t0.0\t1.0\tNORMAL\n",
      "160\t000082540\tblm_2_t_mn\t0.0\t1.0\tNORMAL\n",
      "161\t000161717\tblm_2_t_mn\t0.0\t1.0\tNORMAL\n",
      "162\t000019107\tblm_2_t_mn\t0.0\t1.0\tNORMAL\n",
      "163\t000114944\tblm_2_t_mn\t0.0\t1.0\tNORMAL\n",
      "164\t000239842\tblm_2_t_mn\t0.0\t1.0\tNORMAL\n",
      "165\t000144179\tblm_2_t_mn\t0.0\t1.0\tNORMAL\n",
      "166\t000238150\tblm_2_t_mn\t0.0\t1.0\tNORMAL\n",
      "167\t000303120\tblm_2_t_mn\t0.0\t1.0\tNORMAL\n",
      "168\t000093475\tblm_2_t_mn\t0.0\t1.0\tNORMAL\n",
      "169\t000187267\tblm_2_t_mn\t0.0\t1.0\tNORMAL\n",
      "170\t000017923\tblm_2_t_mn\t0.0\t1.0\tNORMAL\n",
      "171\t000314886\tblm_2_t_mn\t0.0\t1.0\tNORMAL\n",
      "172\t000190874\tblm_2_t_mn\t0.0\t1.0\tNORMAL\n",
      "173\t000274296\tblm_2_t_mn\t0.0\t1.0\tNORMAL\n",
      "174\t000190356\tblm_2_t_mn\t0.0\t1.0\tNORMAL\n",
      "175\t000097231\tblm_2_t_mn\t0.0\t1.0\tNORMAL\n",
      "176\t000307964\tblm_2_t_mn\t0.0\t1.0\tNORMAL\n",
      "177\t001281293\tblm_2_t_mn\t0.0\t1.0\tNORMAL\n",
      "178\t000186295\tblm_2_t_mn\t0.0\t1.0\tNORMAL\n",
      "179\t000174484\tblm_2_t_mn\t0.0\t1.0\tNORMAL\n",
      "180\t000047106\tblm_2_t_mn\t0.0\t1.0\tNORMAL\n",
      "181\t000320532\tblm_2_t_mn\t0.0\t1.0\tNORMAL\n",
      "182\t000126110\tblm_2_t_mn\t0.0\t1.0\tNORMAL\n",
      "183\t000342559\tblm_2_t_mn\t0.0\t1.0\tNORMAL\n",
      "184\t000235885\tblm_2_t_mn\t0.0\t1.0\tNORMAL\n",
      "185\t000299776\tblm_2_t_mn\t0.0\t1.0\tNORMAL\n",
      "186\t000338793\tblm_2_t_mn\t0.0\t1.0\tNORMAL\n",
      "187\t000030048\tblm_2_t_mn\t0.0\t1.0\tNORMAL\n",
      "188\t000256620\tblm_2_t_mn\t0.0\t1.0\tNORMAL\n",
      "189\t000068601\tblm_2_t_mn\t0.0\t1.0\tNORMAL\n",
      "190\t000048879\tblm_2_t_mn\t0.0\t1.0\tNORMAL\n",
      "191\t000138942\tblm_2_t_mn\t0.0\t1.0\tNORMAL\n",
      "192\t000165775\tblm_2_t_mn\t0.0\t1.0\tNORMAL\n",
      "193\t001663380\tblm_2_t_mn\t0.0\t1.0\tNORMAL\n",
      "194\t000003978\tblm_2_t_mn\t0.0\t1.0\tNORMAL\n",
      "195\t000163362\tblm_2_t_mn\t0.0\t1.0\tNORMAL\n",
      "196\t000339086\tblm_2_t_mn\t0.0\t1.0\tNORMAL\n",
      "197\t001607887\tblm_2_t_mn\t0.0\t1.0\tNORMAL\n",
      "198\t000234195\tblm_2_t_mn\t0.0\t1.0\tNORMAL\n",
      "199\t000150560\tblm_2_t_mn\t0.0\t1.0\tNORMAL\n",
      "200\t000139073\tblm_2_t_mn\t0.0\t1.0\tNORMAL\n",
      "201\t000231068\tblm_2_t_mn\t0.0\t1.0\tNORMAL\n",
      "202\t000116314\tblm_2_t_mn\t0.0\t1.0\tNORMAL\n",
      "203\t000201631\tblm_2_t_mn\t0.0\t1.0\tNORMAL\n",
      "204\t000230842\tblm_2_t_mn\t0.0\t1.0\tNORMAL\n",
      "205\t000780558\tblm_2_t_mn\t0.0\t1.0\tNORMAL\n",
      "206\t000208098\tblm_2_t_mn\t0.0\t1.0\tNORMAL\n",
      "207\t000312368\tblm_2_t_mn\t0.0\t1.0\tNORMAL\n",
      "208\t000135029\tblm_2_t_mn\t0.0\t1.0\tNORMAL\n",
      "209\t000180250\tblm_2_t_mn\t0.0\t1.0\tNORMAL\n",
      "210\t000259005\tblm_2_t_mn\t0.0\t1.0\tNORMAL\n",
      "211\t000107073\tblm_2_t_mn\t0.0\t1.0\tNORMAL\n",
      "212\t000127616\tblm_2_t_mn\t0.0\t1.0\tNORMAL\n",
      "213\t000282323\tblm_2_t_mn\t0.0\t1.0\tNORMAL\n",
      "214\t000338766\tblm_2_t_mn\t0.0\t1.0\tNORMAL\n",
      "215\t000089462\tblm_2_t_mn\t0.0\t1.0\tNORMAL\n",
      "216\t000263226\tblm_2_t_mn\t0.0\t1.0\tNORMAL\n",
      "217\t001652534\tblm_2_t_mn\t0.0\t1.0\tNORMAL\n",
      "218\t000213870\tblm_2_t_mn\t0.0\t1.0\tNORMAL\n",
      "219\t000047771\tblm_2_t_mn\t0.0\t1.0\tNORMAL\n",
      "220\t000104241\tblm_2_t_mn\t0.0\t1.0\tNORMAL\n",
      "221\t001665206\tblm_2_t_mn\t0.0\t1.0\tNORMAL\n",
      "222\t000172089\tblm_2_t_mn\t0.0\t1.0\tNORMAL\n",
      "223\t000192499\tblm_2_t_mn\t0.0\t1.0\tNORMAL\n",
      "224\t000271686\tblm_2_t_mn\t0.0\t1.0\tNORMAL\n",
      "225\t000084698\tblm_2_t_mn\t0.0\t1.0\tNORMAL\n",
      "226\t000149462\tblm_2_t_mn\t0.0\t1.0\tNORMAL\n",
      "227\t000114496\tblm_2_t_mn\t0.0\t1.0\tNORMAL\n",
      "228\t000156284\tblm_2_t_mn\t0.0\t1.0\tNORMAL\n",
      "229\t000205351\tblm_2_t_mn\t0.0\t1.0\tNORMAL\n",
      "230\t000109022\tblm_2_t_mn\t0.0\t1.0\tNORMAL\n",
      "231\t000199980\tblm_2_t_mn\t0.0\t1.0\tNORMAL\n",
      "232\t001569952\tblm_2_t_mn\t0.0\t1.0\tNORMAL\n",
      "233\t000046782\tblm_2_t_mn\t0.0\t1.0\tNORMAL\n",
      "234\t000254084\tblm_2_t_mn\t0.0\t1.0\tNORMAL\n",
      "235\t001608458\tblm_2_t_mn\t0.0\t1.0\tNORMAL\n",
      "236\t000243664\tblm_2_t_mn\t0.0\t1.0\tNORMAL\n",
      "237\t000152106\tblm_2_t_mn\t0.0\t1.0\tNORMAL\n",
      "238\t000181206\tblm_2_t_mn\t0.0\t1.0\tNORMAL\n",
      "239\t000197756\tblm_2_t_mn\t0.0\t1.0\tNORMAL\n",
      "240\t000086907\tblm_2_t_mn\t0.0\t1.0\tNORMAL\n",
      "241\t001691406\tblm_2_t_mn\t0.0\t1.0\tNORMAL\n",
      "242\t000151792\tblm_2_t_mn\t0.0\t1.0\tNORMAL\n",
      "243\t000232145\tblm_2_t_mn\t0.0\t1.0\tNORMAL\n",
      "244\t000227329\tblm_2_t_mn\t0.0\t1.0\tNORMAL\n",
      "245\t000096665\tblm_2_t_mn\t0.0\t1.0\tNORMAL\n",
      "246\t000086374\tblm_2_t_mn\t0.0\t1.0\tNORMAL\n",
      "247\t000190613\tblm_2_t_mn\t0.0\t1.0\tNORMAL\n",
      "248\t000137833\tblm_2_t_mn\t0.0\t1.0\tNORMAL\n",
      "249\t000303789\tblm_2_t_mn\t0.0\t1.0\tNORMAL\n",
      "250\t000022278\tblm_2_t_mn\t0.0\t1.0\tNORMAL\n",
      "251\t001665511\tblm_2_t_mn\t0.0\t1.0\tNORMAL\n",
      "252\t001665918\tblm_2_t_mn\t0.0\t1.0\tNORMAL\n",
      "253\t000192028\tblm_2_t_mn\t0.0\t1.0\tNORMAL\n",
      "254\t000006142\tblm_2_t_mn\t0.0\t1.0\tNORMAL\n",
      "255\t000027811\tblm_2_t_mn\t0.0\t1.0\tNORMAL\n",
      "256\t000253374\tblm_2_t_mn\t0.0\t1.0\tNORMAL\n",
      "257\t000149782\tblm_2_t_mn\t0.0\t1.0\tNORMAL\n",
      "258\t001665248\tblm_2_t_mn\t0.0\t1.0\tNORMAL\n",
      "259\t000209888\tblm_2_t_mn\t0.0\t1.0\tNORMAL\n",
      "260\t000077240\tblm_2_t_mn\t0.0\t1.0\tNORMAL\n",
      "261\t000185237\tblm_2_t_mn\t0.0\t1.0\tNORMAL\n",
      "262\t000073680\tblm_2_t_mn\t0.0\t1.0\tNORMAL\n",
      "263\t000292187\tblm_2_t_mn\t0.0\t1.0\tNORMAL\n",
      "264\t000196958\tblm_2_t_mn\t0.0\t1.0\tNORMAL\n",
      "265\t000210761\tblm_2_t_mn\t0.0\t1.0\tNORMAL\n",
      "266\t000157138\tblm_2_t_mn\t0.0\t1.0\tNORMAL\n",
      "267\t000282408\tblm_2_t_mn\t0.0\t1.0\tNORMAL\n",
      "268\t000248513\tblm_2_t_mn\t0.0\t1.0\tNORMAL\n",
      "269\t000060538\tblm_2_t_mn\t0.0\t1.0\tNORMAL\n",
      "270\t000302185\tblm_2_t_mn\t0.0\t1.0\tNORMAL\n",
      "271\t000041076\tblm_2_t_mn\t0.0\t1.0\tNORMAL\n",
      "272\t000324425\tblm_2_t_mn\t0.0\t1.0\tNORMAL\n",
      "273\t000046869\tblm_2_t_mn\t0.0\t1.0\tNORMAL\n",
      "274\t000035501\tblm_2_t_mn\t0.0\t1.0\tNORMAL\n",
      "275\t000713828\tblm_2_t_mn\t0.0\t1.0\tNORMAL\n",
      "276\t000005237\tblm_2_t_mn\t0.0\t1.0\tNORMAL\n",
      "277\t000627228\tblm_2_t_mn\t0.0\t1.0\tNORMAL\n",
      "278\t000264147\tblm_2_t_mn\t0.0\t1.0\tNORMAL\n",
      "279\t000282840\tblm_2_t_mn\t0.0\t1.0\tNORMAL\n",
      "280\t000163886\tblm_2_t_mn\t0.0\t1.0\tNORMAL\n",
      "281\t000016360\tblm_2_t_mn\t0.0\t1.0\tNORMAL\n",
      "282\t000222996\tblm_2_t_mn\t0.0\t1.0\tNORMAL\n",
      "283\t000082539\tblm_2_t_mn\t0.0\t1.0\tNORMAL\n",
      "284\t000159696\tblm_2_t_mn\t0.0\t1.0\tNORMAL\n",
      "285\t000035959\tblm_2_t_mn\t0.0\t1.0\tNORMAL\n",
      "286\t000244549\tblm_2_t_mn\t0.0\t1.0\tNORMAL\n",
      "287\t000279611\tblm_2_t_mn\t0.0\t1.0\tNORMAL\n",
      "288\t000221524\tblm_2_t_mn\t0.0\t1.0\tNORMAL\n",
      "289\t000163632\tblm_2_t_mn\t0.0\t1.0\tNORMAL\n",
      "290\t000150167\tblm_2_t_mn\t0.0\t1.0\tNORMAL\n"
     ]
    }
   ],
   "source": [
    "p = 0\n",
    "for ds in list_ds:\n",
    "    img_path = str(os.path.splitext(ds.numpy())[0])\n",
    "    img_path = img_path.replace(\"b\", \"\")\n",
    "    img_path = img_path.replace(\"\\\\\", \"\")\n",
    "    img_path = img_path.replace(\"/\", \"\")\n",
    "    img_path = img_path.replace(\"input\", \"\")\n",
    "    img_path = img_path.replace(\"'\", \"\")\n",
    "\n",
    "    res = predictions[p]\n",
    "    msg = \"\"\n",
    "    \n",
    "    f.write(img_path + ',' + MODEL_NAME + ',')\n",
    "    msg += str(p) + '\\t' + img_path + '\\t' + MODEL_NAME + '\\t'\n",
    "    pred = 0\n",
    "    idx = 0\n",
    "    pred_score = 0\n",
    "    \n",
    "    \n",
    "    for r in res:\n",
    "        f.write(str(r) + ',')\n",
    "        msg += str(r) + '\\t'\n",
    "        if r > pred_score:\n",
    "            pred_score = r\n",
    "            pred = idx\n",
    "        idx = idx + 1\n",
    "        \n",
    "    f.write(CLASS_NAMES[pred] + '\\n')\n",
    "    msg += CLASS_NAMES[pred]\n",
    "    print(msg)\n",
    "    \n",
    "    p = p + 1"
   ]
  },
  {
   "cell_type": "code",
   "execution_count": 238,
   "metadata": {},
   "outputs": [],
   "source": [
    "f.close()"
   ]
  },
  {
   "cell_type": "code",
   "execution_count": null,
   "metadata": {},
   "outputs": [],
   "source": []
  }
 ],
 "metadata": {
  "kernelspec": {
   "display_name": "Python 3",
   "language": "python",
   "name": "python3"
  },
  "language_info": {
   "codemirror_mode": {
    "name": "ipython",
    "version": 3
   },
   "file_extension": ".py",
   "mimetype": "text/x-python",
   "name": "python",
   "nbconvert_exporter": "python",
   "pygments_lexer": "ipython3",
   "version": "3.7.3"
  }
 },
 "nbformat": 4,
 "nbformat_minor": 2
}
